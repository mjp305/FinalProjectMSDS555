{
 "cells": [
  {
   "cell_type": "code",
   "execution_count": null,
   "id": "31b0a9cb",
   "metadata": {},
   "outputs": [],
   "source": [
    "from pyspark.sql import SparkSession# Initialize SparkSessionspark = SparkSession.builder     .appName(\"WriteToMySQL\")     .config(\"spark.jars\", \"/usr/local/lib/python3.11/dist-packages/pyspark/jars/mysql-connector-j-8.4.0.jar\")     .getOrCreate()# Load the datadf = spark.read.csv(\"adult.csv\", header=True, inferSchema=True)# JDBC connection propertiesjdbc_url = \"jdbc:mysql://localhost:3306/adultdb\"properties = {    \"user\": \"root\",    \"password\": \"your_password_here\",  # Replace with your MySQL password    \"driver\": \"com.mysql.cj.jdbc.Driver\"}# Write data to MySQLdf.write.jdbc(url=jdbc_url, table=\"Adult\", mode=\"overwrite\", properties=properties)# Read back for verificationdf_from_mysql = spark.read.jdbc(url=jdbc_url, table=\"Adult\", properties=properties)df_from_mysql.show(5)"
   ]
  }
 ],
 "metadata": {
  "kernelspec": {
   "display_name": "Python [conda env:base] *",
   "language": "python",
   "name": "conda-base-py"
  },
  "language_info": {
   "codemirror_mode": {
    "name": "ipython",
    "version": 3
   },
   "file_extension": ".py",
   "mimetype": "text/x-python",
   "name": "python",
   "nbconvert_exporter": "python",
   "pygments_lexer": "ipython3",
   "version": "3.13.5"
  }
 },
 "nbformat": 4,
 "nbformat_minor": 5
}
