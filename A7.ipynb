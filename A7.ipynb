{
 "cells": [
  {
   "cell_type": "code",
   "execution_count": null,
   "id": "1114c67d",
   "metadata": {},
   "outputs": [],
   "source": [
    "from pyspark.sql import SparkSession# Initialize SparkSessionspark = SparkSession.builder.appName(\"EducationCount\").getOrCreate()# Load the datadf = spark.read.csv(\"adult.csv\", header=True, inferSchema=True)# Count by education level and sort ascendingdf.groupBy(\"education\").count().orderBy(\"count\").show()"
   ]
  }
 ],
 "metadata": {
  "kernelspec": {
   "display_name": "Python [conda env:base] *",
   "language": "python",
   "name": "conda-base-py"
  },
  "language_info": {
   "codemirror_mode": {
    "name": "ipython",
    "version": 3
   },
   "file_extension": ".py",
   "mimetype": "text/x-python",
   "name": "python",
   "nbconvert_exporter": "python",
   "pygments_lexer": "ipython3",
   "version": "3.13.5"
  }
 },
 "nbformat": 4,
 "nbformat_minor": 5
}
