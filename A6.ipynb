{
 "cells": [
  {
   "cell_type": "code",
   "execution_count": 1,
   "id": "26815a88",
   "metadata": {},
   "outputs": [],
   "source": [
    "from pyspark.sql import SparkSession\n",
    "# Initialize SparkSessionspark = SparkSession.builder.appName(\"CountUnder40\").getOrCreate()\n",
    "# Load the datadf = spark.read.csv(\"adult.csv\", header=True, inferSchema=True)\n",
    "# Filter and count people below 40count = df.filter(df['age'] < 40).count()print(count)"
   ]
  },
  {
   "cell_type": "code",
   "execution_count": null,
   "id": "7fd3da71-36e4-48bd-9b94-e4ce6b8b5ec9",
   "metadata": {},
   "outputs": [],
   "source": []
  }
 ],
 "metadata": {
  "kernelspec": {
   "display_name": "Python [conda env:base] *",
   "language": "python",
   "name": "conda-base-py"
  },
  "language_info": {
   "codemirror_mode": {
    "name": "ipython",
    "version": 3
   },
   "file_extension": ".py",
   "mimetype": "text/x-python",
   "name": "python",
   "nbconvert_exporter": "python",
   "pygments_lexer": "ipython3",
   "version": "3.13.5"
  }
 },
 "nbformat": 4,
 "nbformat_minor": 5
}
